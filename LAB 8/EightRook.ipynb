{
  "cells": [
    {
      "cell_type": "code",
      "execution_count": 2,
      "metadata": {
        "colab": {
          "base_uri": "https://localhost:8080/"
        },
        "id": "ZOSbq33NNb5I",
        "outputId": "1292735c-c177-4e45-a02b-dcf6d5eab6b1"
      },
      "outputs": [
        {
          "name": "stdout",
          "output_type": "stream",
          "text": [
            "[37, 34, 46, 45, 48, 12, 5, 8]\n"
          ]
        }
      ],
      "source": [
        "import numpy as np\n",
        "\n",
        "#Generating random initial cofiguration:\n",
        "unique=[]\n",
        "i=0\n",
        "while(i<8):\n",
        "  pos = np.random.randint(low=0, high=64)\n",
        "  if pos not in unique:\n",
        "    unique.append(pos)\n",
        "    i+=1\n",
        "  else:\n",
        "    continue\n",
        "\n",
        "print(unique)\n",
        "initial_state = np.zeros((8,8))\n",
        "for x in unique:\n",
        "  initial_state[x//8][x%8] = 1\n"
      ]
    },
    {
      "cell_type": "code",
      "execution_count": 3,
      "metadata": {
        "colab": {
          "base_uri": "https://localhost:8080/"
        },
        "id": "O7WJVb6gYFAi",
        "outputId": "2d40a5ed-f7e0-4503-bb94-a52bdf0624ce"
      },
      "outputs": [
        {
          "data": {
            "text/plain": [
              "array([[0., 0., 0., 0., 0., 1., 0., 0.],\n",
              "       [1., 0., 0., 0., 1., 0., 0., 0.],\n",
              "       [0., 0., 0., 0., 0., 0., 0., 0.],\n",
              "       [0., 0., 0., 0., 0., 0., 0., 0.],\n",
              "       [0., 0., 1., 0., 0., 1., 0., 0.],\n",
              "       [0., 0., 0., 0., 0., 1., 1., 0.],\n",
              "       [1., 0., 0., 0., 0., 0., 0., 0.],\n",
              "       [0., 0., 0., 0., 0., 0., 0., 0.]])"
            ]
          },
          "execution_count": 3,
          "metadata": {},
          "output_type": "execute_result"
        }
      ],
      "source": [
        "initial_state"
      ]
    },
    {
      "cell_type": "code",
      "execution_count": 4,
      "metadata": {
        "colab": {
          "base_uri": "https://localhost:8080/",
          "height": 447
        },
        "id": "KbnM6o1INmiA",
        "outputId": "5653df9b-9291-4b4a-d97d-cb200ef1c39d"
      },
      "outputs": [
        {
          "data": {
            "text/plain": [
              "<matplotlib.image.AxesImage at 0x1fa2d132310>"
            ]
          },
          "execution_count": 4,
          "metadata": {},
          "output_type": "execute_result"
        },
        {
          "data": {
            "image/png": "[encoded data removed]",
            "text/plain": [
              "<Figure size 640x480 with 1 Axes>"
            ]
          },
          "metadata": {},
          "output_type": "display_data"
        }
      ],
      "source": [
        "# def plot_state(state):\n",
        "import matplotlib.pyplot as plt\n",
        "plt.imshow(initial_state, cmap='binary', interpolation='nearest')"
      ]
    },
    {
      "cell_type": "code",
      "execution_count": 5,
      "metadata": {
        "id": "cRHakOz3Qymf"
      },
      "outputs": [],
      "source": [
        "def initialize_weights():\n",
        "    # Initialize an empty weight matrix\n",
        "    weights = np.zeros((64, 64))\n",
        "\n",
        "    # Set weights based on the energy function for Eight-rook problem\n",
        "    for i in range(64):\n",
        "        for j in range(64):\n",
        "            # Set weights only for neighboring grid cells in the same row or column\n",
        "            if i // 8 == j // 8 or i % 8 == j % 8:\n",
        "                weights[i, j] = -2\n",
        "    return weights\n",
        "\n",
        "W = initialize_weights()"
      ]
    },
    {
      "cell_type": "code",
      "execution_count": 6,
      "metadata": {
        "id": "M0IJyYebTRA9"
      },
      "outputs": [],
      "source": [
        "def energy(x):\n",
        "  E1=0\n",
        "  E2=0\n",
        "  for j in range(8):\n",
        "    sum=0\n",
        "    for i in range(8):\n",
        "      sum+=x[i][j]\n",
        "    sum-=1\n",
        "    E1+=sum**2\n",
        "\n",
        "  for i in range(8):\n",
        "    sum=0\n",
        "    for j in range(8):\n",
        "      sum+=x[i][j]\n",
        "    sum-=1\n",
        "    E2+=sum**2\n",
        "\n",
        "  return E1+E2"
      ]
    },
    {
      "cell_type": "code",
      "execution_count": 7,
      "metadata": {
        "colab": {
          "base_uri": "https://localhost:8080/"
        },
        "id": "d_6FElMhTU4V",
        "outputId": "730782d3-6451-4c59-add3-257a97645895"
      },
      "outputs": [
        {
          "data": {
            "text/plain": [
              "14.0"
            ]
          },
          "execution_count": 7,
          "metadata": {},
          "output_type": "execute_result"
        }
      ],
      "source": [
        "energy(initial_state)"
      ]
    },
    {
      "cell_type": "code",
      "execution_count": 8,
      "metadata": {
        "colab": {
          "base_uri": "https://localhost:8080/",
          "height": 465
        },
        "id": "5xghrfPda0ph",
        "outputId": "451a9455-09f3-4d50-f8b1-fc8705e7ce16"
      },
      "outputs": [
        {
          "name": "stdout",
          "output_type": "stream",
          "text": [
            "14.0\n"
          ]
        },
        {
          "data": {
            "text/plain": [
              "<matplotlib.image.AxesImage at 0x1fa2ce44910>"
            ]
          },
          "execution_count": 8,
          "metadata": {},
          "output_type": "execute_result"
        },
        {
          "data": {
            "image/png": "[encoded data removed]",
            "text/plain": [
              "<Figure size 640x480 with 1 Axes>"
            ]
          },
          "metadata": {},
          "output_type": "display_data"
        }
      ],
      "source": [
        "\n",
        "\n",
        "import numpy as np\n",
        "import matplotlib.pyplot as plt\n",
        "\n",
        "def flip(curr_energy, x):\n",
        "    while True:\n",
        "        pos1 = np.random.randint(low=0, high=64)\n",
        "        pos2 = np.random.randint(low=0, high=64)\n",
        "        if x[pos1 // 8][pos1 % 8] != 1 and x[pos2 // 8][pos2 % 8] != 0:\n",
        "            continue\n",
        "        if x[pos1 // 8][pos1 % 8] == 1 and x[pos2 // 8][pos2 % 8] == 0:\n",
        "            x[pos1 // 8][pos1 % 8] = 0\n",
        "            x[pos2 // 8][pos2 % 8] = 1\n",
        "            new_energy = energy(x)\n",
        "            if curr_energy > new_energy:  # Check if new energy is lower\n",
        "                curr_energy = new_energy  # Update current energy\n",
        "            else:  # Revert the changes if energy doesn't decrease\n",
        "                x[pos1 // 8][pos1 % 8] = 1\n",
        "                x[pos2 // 8][pos2 % 8] = 0\n",
        "            break\n",
        "    return curr_energy\n",
        "\n",
        "# Assuming you have an initial_state and an energy function defined elsewhere\n",
        "# initial_state = ...\n",
        "# energy = ...\n",
        "\n",
        "curr_energy = energy(initial_state)\n",
        "print(curr_energy)\n",
        "iterations = 1000\n",
        "x = initial_state\n",
        "\n",
        "for i in range(iterations):\n",
        "    curr_energy = flip(curr_energy, x)\n",
        "    # print(curr_energy)\n",
        "\n",
        "plt.imshow(initial_state, cmap='binary', interpolation='nearest')\n"
      ]
    },
    {
      "cell_type": "code",
      "execution_count": null,
      "metadata": {
        "id": "ebN0MTYQfKtZ"
      },
      "outputs": [],
      "source": []
    }
  ],
  "metadata": {
    "colab": {
      "provenance": []
    },
    "kernelspec": {
      "display_name": "Python 3",
      "name": "python3"
    },
    "language_info": {
      "codemirror_mode": {
        "name": "ipython",
        "version": 3
      },
      "file_extension": ".py",
      "mimetype": "text/x-python",
      "name": "python",
      "nbconvert_exporter": "python",
      "pygments_lexer": "ipython3",
      "version": "3.11.5"
    }
  },
  "nbformat": 4,
  "nbformat_minor": 0
}
