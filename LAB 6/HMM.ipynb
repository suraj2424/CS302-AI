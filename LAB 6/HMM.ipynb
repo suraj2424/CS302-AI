{
  "cells": [
    {
      "cell_type": "code",
      "execution_count": 2,
      "metadata": {
        "id": "NuOaMd5Z-il1"
      },
      "outputs": [],
      "source": [
        "import math\n",
        "import re\n",
        "import numpy as np\n",
        "import sys"
      ]
    },
    {
      "cell_type": "code",
      "execution_count": 4,
      "metadata": {
        "id": "N09zzHhP-pfj"
      },
      "outputs": [],
      "source": [
        "# number of states in the model\n",
        "N = 2\n",
        "\n",
        "# number of observation symbols\n",
        "M = 27\n",
        "\n",
        "# state transition probabilities\n",
        "A = np.array([[0.47468, 0.52532], [0.51656, 0.48344]])\n",
        "\n",
        "# observation probability matrix\n",
        "B = np.array([[0.03735, 0.03408, 0.03455, 0.03828, 0.03782, 0.03922, 0.03688, 0.03408, 0.03875, 0.04062, 0.03735, 0.03968, 0.03548, 0.03735, 0.04062, 0.03595, 0.03641, 0.03408, 0.04062, 0.03548, 0.03922, 0.04062, 0.03455, 0.03595, 0.03408, 0.03408, 0.03688], \n",
        "              [0.03909, 0.03537,  0.03537, 0.03909, 0.03583,  0.03630, 0.04048, 0.03537, 0.03816, 0.03909, 0.03490, 0.03723, 0.03537, 0.03909, 0.03397, 0.03397, 0.03816, 0.03676, 0.04048, 0.03443, 0.03537, 0.03955, 0.03816,  0.03723,  0.03769, 0.03955, 0.03397]])\n",
        "\n",
        "# initial state distribution\n",
        "pi = np.array([[0.51316, 0.48684]])\n",
        "\n",
        "# no. of iterations\n",
        "max_iters = 100\n",
        "\n",
        "old_log_prob = -math.inf"
      ]
    },
    {
      "cell_type": "code",
      "execution_count": 8,
      "metadata": {
        "colab": {
          "base_uri": "https://localhost:8080/"
        },
        "id": "gEF_Zsel-zQT",
        "outputId": "4570021b-5881-41a8-f7a0-cd674acbe1fd"
      },
      "outputs": [
        {
          "name": "stdout",
          "output_type": "stream",
          "text": [
            "{'a': 0, 'b': 1, 'c': 2, 'd': 3, 'e': 4, 'f': 5, 'g': 6, 'h': 7, 'i': 8, 'j': 9, 'k': 10, 'l': 11, 'm': 12, 'n': 13, 'o': 14, 'p': 15, 'q': 16, 'r': 17, 's': 18, 't': 19, 'u': 20, 'v': 21, 'w': 22, 'x': 23, 'y': 24, 'z': 25, ' ': 26}\n",
            "50000\n"
          ]
        }
      ],
      "source": [
        "# observation sequence\n",
        "\n",
        "O = np.zeros(50000, dtype=int)\n",
        "\n",
        "file = \"war_and_peace.txt\"\n",
        "\n",
        "f = open(file, \"r\")\n",
        "content = f.read()\n",
        "f.close()\n",
        "\n",
        "# Remove the punctuations\n",
        "content = re.sub('[^a-zA-Z]', \" \", content)\n",
        "content = \" \".join(content.split()).lower()[:50000]\n",
        "\n",
        "# map the letters and the space to the respective indexes\n",
        "dictionary = {}\n",
        "for i in range(26):\n",
        "    # ASCII value for the each character in the alphabet\n",
        "    dictionary[chr(i+97)] = i\n",
        "dictionary[\" \"] = 26\n",
        "print(dictionary)\n",
        "\n",
        "# adding the values to the observation list/sequence\n",
        "for i in range(len(content)):\n",
        "    O[i] = dictionary[content[i]]\n",
        "\n",
        "# length of the observation sequence\n",
        "T = len(O)\n",
        "print(T)"
      ]
    },
    {
      "cell_type": "code",
      "execution_count": null,
      "metadata": {
        "id": "jhEVn7zG_N3z"
      },
      "outputs": [],
      "source": [
        "def estimate(A, B, pi, T, M, O, old_log_prob):\n",
        "    # alpha-pass\n",
        "    c = np.zeros([T, 1])\n",
        "    alpha = np.zeros([T, N])\n",
        "    c[0][0] = 0\n",
        "\n",
        "    for i in range(N):\n",
        "        alpha[0][i] = pi[0][i]*B[i][O[0]]\n",
        "        c[0][0] = c[0][0] + alpha[0][i]\n",
        "\n",
        "    # scale the alpha[0][i]\n",
        "    c[0][0] = 1/c[0][0]\n",
        "    for i in range(N):\n",
        "        alpha[0][i] = c[0][0]*alpha[0][i]\n",
        "\n",
        "    # compute alpha[t][i]\n",
        "    for t in range(1, T):\n",
        "        c[t][0] = 0\n",
        "        for i in range(N):\n",
        "            alpha[t][i] = 0\n",
        "            for j in range(N):\n",
        "                alpha[t][i] = alpha[t][i] + alpha[t-1][j]*A[j][i]\n",
        "\n",
        "            alpha[t][i] = alpha[t][i]*B[i][O[t]]\n",
        "            c[t][0] = c[t][0] + alpha[t][i]\n",
        "\n",
        "        c[t][0] = 1/c[t][0]\n",
        "        for i in range(N):\n",
        "            alpha[t][i] = c[t][0]*alpha[t][i]\n",
        "\n",
        "\n",
        "    # beta-pass\n",
        "    beta = np.zeros([T, N])\n",
        "\n",
        "    for i in range(N):\n",
        "        beta[T-1][i] = c[T-1][0]\n",
        "\n",
        "    for t in range(T-2, -1, -1):\n",
        "        for i in range(N):\n",
        "            beta[t][i] = 0\n",
        "            for j in range(N):\n",
        "                beta[t][i] = beta[t][i] + A[i][j]*B[j][O[t+1]]*beta[t+1][j]\n",
        "            \n",
        "            # scale the beta[t][i]\n",
        "            beta[t][i] = c[t][0]*beta[t][i]\n",
        "\n",
        "\n",
        "    # compute gamma[t][i][j] and gamma[t][i]\n",
        "    di_gamma = np.zeros([T, N, N])\n",
        "    gamma = np.zeros([T, N])\n",
        "\n",
        "    for t in range(T-1):\n",
        "        for i in range(N):\n",
        "            gamma[t][i] = 0\n",
        "            for j in range(N):\n",
        "                di_gamma[t][i][j] = alpha[t][i]*A[i][j]*B[j][O[t+1]]*beta[t+1][j]\n",
        "                gamma[t][i] = gamma[t][i] + di_gamma[t][i][j]\n",
        "\n",
        "\n",
        "    # handling the case for gamma[T-1][i]\n",
        "    for i in range(N):\n",
        "        gamma[T-1][i] = alpha[T-1][i]\n",
        "\n",
        "\n",
        "    # re-estimate A, B and pi\n",
        "    # re-estimate pi\n",
        "    for i in range(N):\n",
        "        pi[0][i] = gamma[0][i]\n",
        "\n",
        "    # re-estimate A\n",
        "    for i in range(N):\n",
        "        denominator = 0\n",
        "        for t in range(T-1):\n",
        "            denominator = denominator + gamma[t][i]\n",
        "\n",
        "        for j in range(N):\n",
        "            numerator = 0\n",
        "            for t in range(T-1):\n",
        "                numerator = numerator + di_gamma[t][i][j]\n",
        "            A[i][j] = numerator/denominator\n",
        "\n",
        "\n",
        "    # re-estimate B\n",
        "    for i in range(N):\n",
        "        denominator = 0\n",
        "        for t in range(T):\n",
        "            denominator = denominator + gamma[t][i]\n",
        "        \n",
        "        for j in range(M):\n",
        "            numerator = 0\n",
        "            for t in range(T):\n",
        "                if O[t] == j:\n",
        "                    numerator = numerator + gamma[t][i]\n",
        "            \n",
        "            B[i][j] = numerator/denominator\n",
        "\n",
        "\n",
        "    # compute log(P(O/lambda))\n",
        "    log_prob = 0\n",
        "    for i in range(T):\n",
        "        log_prob = log_prob + math.log(c[i][0])\n",
        "\n",
        "    log_prob = -1 * log_prob\n",
        "\n",
        "    if log_prob > old_log_prob:\n",
        "        old_log_prob = log_prob\n",
        "\n",
        "    return A, B, pi, old_log_prob\n",
        "     "
      ]
    },
    {
      "cell_type": "code",
      "execution_count": null,
      "metadata": {
        "colab": {
          "base_uri": "https://localhost:8080/"
        },
        "id": "THRnLaqPATVI",
        "outputId": "75f0587f-c7df-46af-fa61-c8854b5181f6"
      },
      "outputs": [
        {
          "name": "stdout",
          "output_type": "stream",
          "text": [
            "\rPercentage completed: 0%\n",
            "\n",
            "\n",
            "State transition matrix: \n",
            " [[0.48011686 0.51988314]\n",
            " [0.52230238 0.47769762]]\n",
            "\n",
            " Observation probability matrix: \n",
            " [[0.06787747 0.0106181  0.0253659  0.03161044 0.10238467 0.01433533\n",
            "  0.01360254 0.05015376 0.06331783 0.00090279 0.00594043 0.03044626\n",
            "  0.01784859 0.05263945 0.06059787 0.02406699 0.00059498 0.04799115\n",
            "  0.04654307 0.07060169 0.02042766 0.01431661 0.01479188 0.00741039\n",
            "  0.01367665 0.00047436 0.19146315]\n",
            " [0.07257343 0.01134358 0.02663705 0.03315315 0.09892731 0.01370321\n",
            "  0.01528136 0.05329354 0.06368302 0.00089719 0.00569901 0.02931111\n",
            "  0.01831249 0.0564093  0.05182175 0.02329121 0.00064514 0.05322099\n",
            "  0.04761943 0.07031765 0.01888877 0.01432341 0.01681281 0.00787068\n",
            "  0.01556774 0.00056586 0.17982983]]\n",
            "\n",
            " Pi: \n",
            " [[0.52306683 0.47693317]]\n",
            "\n",
            "Log Probability log(P(O/lambda)):  -142533.41283009356\n"
          ]
        }
      ],
      "source": [
        "a, b, p, log_probability = estimate(A, B, pi, T, M, O, old_log_prob)\n",
        "\n",
        "for i in range(1):\n",
        "    sys.stdout.write(\"\\r\")\n",
        "    sys.stdout.write(\"Percentage completed: %d%%\" % ((i * 100)/ max_iters))\n",
        "    sys.stdout.flush()\n",
        "    a, b, p, log_probability = estimate(a, b, p, T, M, O, log_probability)\n",
        "\n",
        "print(\"\\n\")\n",
        "print(\"\\nState transition matrix: \\n\", a)\n",
        "print(\"\\n Observation probability matrix: \\n\", b)\n",
        "print(\"\\n Pi: \\n\", p)\n",
        "print(\"\\nLog Probability log(P(O/lambda)): \", log_probability)\n",
        "     "
      ]
    }
  ],
  "metadata": {
    "colab": {
      "provenance": []
    },
    "kernelspec": {
      "display_name": "Python 3",
      "name": "python3"
    },
    "language_info": {
      "name": "python"
    }
  },
  "nbformat": 4,
  "nbformat_minor": 0
}
